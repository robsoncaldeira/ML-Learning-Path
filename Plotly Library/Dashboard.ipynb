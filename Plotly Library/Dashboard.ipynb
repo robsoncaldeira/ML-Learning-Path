{
 "cells": [
  {
   "cell_type": "code",
   "execution_count": 7,
   "metadata": {},
   "outputs": [
    {
     "name": "stderr",
     "output_type": "stream",
     "text": [
      "[*********************100%***********************]  1 of 1 completed\n",
      "d:\\Files\\Project\\ML Learning Path\\ML_env\\Lib\\site-packages\\dash\\dash.py:585: UserWarning:\n",
      "\n",
      "JupyterDash is deprecated, use Dash instead.\n",
      "See https://dash.plotly.com/dash-in-jupyter for more details.\n",
      "\n"
     ]
    },
    {
     "data": {
      "text/html": [
       "\n",
       "        <iframe\n",
       "            width=\"100%\"\n",
       "            height=\"650\"\n",
       "            src=\"http://127.0.0.1:54112/\"\n",
       "            frameborder=\"0\"\n",
       "            allowfullscreen\n",
       "            \n",
       "        ></iframe>\n",
       "        "
      ],
      "text/plain": [
       "<IPython.lib.display.IFrame at 0x19b77532210>"
      ]
     },
     "metadata": {},
     "output_type": "display_data"
    },
    {
     "data": {
      "text/html": [
       "\n",
       "        <iframe\n",
       "            width=\"100%\"\n",
       "            height=\"650\"\n",
       "            src=\"http://127.0.0.1:54112/\"\n",
       "            frameborder=\"0\"\n",
       "            allowfullscreen\n",
       "            \n",
       "        ></iframe>\n",
       "        "
      ],
      "text/plain": [
       "<IPython.lib.display.IFrame at 0x19b741b1ee0>"
      ]
     },
     "metadata": {},
     "output_type": "display_data"
    }
   ],
   "source": [
    "import yfinance as yf\n",
    "import pandas as pd\n",
    "from jupyter_dash import JupyterDash\n",
    "from dash import dcc, html\n",
    "import plotly.graph_objs as go\n",
    "\n",
    "# Baixar dados\n",
    "ticker = 'AAPL'\n",
    "data = yf.download(ticker, start='2020-01-01', end='2023-01-01')\n",
    "data.reset_index(inplace=True)\n",
    "\n",
    "# Inicializar o app\n",
    "app = JupyterDash(__name__)\n",
    "\n",
    "app.layout = html.Div([\n",
    "    html.H1(f'Análise Financeira: {ticker}'),\n",
    "    \n",
    "    dcc.Graph(\n",
    "        id='grafico-precos',\n",
    "        figure={\n",
    "            'data': [\n",
    "                go.Scatter(\n",
    "                    x=data['Date'],\n",
    "                    y=data['Close'],\n",
    "                    mode='lines',\n",
    "                    name='Preço de Fechamento'\n",
    "                )\n",
    "            ],\n",
    "            'layout': go.Layout(\n",
    "                title='Preço de Fechamento ao Longo do Tempo',\n",
    "                xaxis={'title': 'Data'},\n",
    "                yaxis={'title': 'Preço (USD)'},\n",
    "            )\n",
    "        }\n",
    "    ),\n",
    "    \n",
    "    dcc.Graph(\n",
    "        id='grafico-volume',\n",
    "        figure={\n",
    "            'data': [\n",
    "                go.Bar(\n",
    "                    x=data['Date'],\n",
    "                    y=data['Volume'],\n",
    "                    name='Volume de Negócios'\n",
    "                )\n",
    "            ],\n",
    "            'layout': go.Layout(\n",
    "                title='Volume de Negócios ao Longo do Tempo',\n",
    "                xaxis={'title': 'Data'},\n",
    "                yaxis={'title': 'Volume'},\n",
    "            )\n",
    "        }\n",
    "    )\n",
    "])\n",
    "\n",
    "# Rodar o app\n",
    "app.run_server(mode='inline')\n"
   ]
  },
  {
   "cell_type": "code",
   "execution_count": 8,
   "metadata": {},
   "outputs": [
    {
     "name": "stderr",
     "output_type": "stream",
     "text": [
      "[*********************100%***********************]  1 of 1 completed\n"
     ]
    },
    {
     "data": {
      "text/html": [
       "\n",
       "        <iframe\n",
       "            width=\"100%\"\n",
       "            height=\"650\"\n",
       "            src=\"http://127.0.0.1:54112/\"\n",
       "            frameborder=\"0\"\n",
       "            allowfullscreen\n",
       "            \n",
       "        ></iframe>\n",
       "        "
      ],
      "text/plain": [
       "<IPython.lib.display.IFrame at 0x19b774c6240>"
      ]
     },
     "metadata": {},
     "output_type": "display_data"
    }
   ],
   "source": [
    "import yfinance as yf\n",
    "import pandas as pd\n",
    "from dash import dcc, html, Dash\n",
    "import plotly.graph_objs as go\n",
    "\n",
    "# Baixar dados\n",
    "ticker = 'AAPL'\n",
    "data = yf.download(ticker, start='2020-01-01', end='2023-01-01')\n",
    "data.reset_index(inplace=True)\n",
    "\n",
    "# Inicializar o app\n",
    "app = Dash(__name__)\n",
    "\n",
    "app.layout = html.Div([\n",
    "    html.H1(f'Análise Financeira: {ticker}'),\n",
    "    \n",
    "    dcc.Graph(\n",
    "        id='grafico-precos',\n",
    "        figure={\n",
    "            'data': [\n",
    "                go.Scatter(\n",
    "                    x=data['Date'],\n",
    "                    y=data['Close'],\n",
    "                    mode='lines',\n",
    "                    name='Preço de Fechamento'\n",
    "                )\n",
    "            ],\n",
    "            'layout': go.Layout(\n",
    "                title='Preço de Fechamento ao Longo do Tempo',\n",
    "                xaxis={'title': 'Data'},\n",
    "                yaxis={'title': 'Preço (USD)'},\n",
    "            )\n",
    "        }\n",
    "    ),\n",
    "    \n",
    "    dcc.Graph(\n",
    "        id='grafico-volume',\n",
    "        figure={\n",
    "            'data': [\n",
    "                go.Bar(\n",
    "                    x=data['Date'],\n",
    "                    y=data['Volume'],\n",
    "                    name='Volume de Negócios'\n",
    "                )\n",
    "            ],\n",
    "            'layout': go.Layout(\n",
    "                title='Volume de Negócios ao Longo do Tempo',\n",
    "                xaxis={'title': 'Data'},\n",
    "                yaxis={'title': 'Volume'},\n",
    "            )\n",
    "        }\n",
    "    )\n",
    "])\n",
    "\n",
    "# Rodar o app\n",
    "app.run_server(mode='external')  # Mantenha isso se você estiver em um Jupyter Notebook\n"
   ]
  },
  {
   "cell_type": "code",
   "execution_count": 9,
   "metadata": {},
   "outputs": [
    {
     "name": "stderr",
     "output_type": "stream",
     "text": [
      "[*********************100%***********************]  1 of 1 completed\n"
     ]
    },
    {
     "data": {
      "text/html": [
       "\n",
       "        <iframe\n",
       "            width=\"100%\"\n",
       "            height=\"650\"\n",
       "            src=\"http://127.0.0.1:54112/\"\n",
       "            frameborder=\"0\"\n",
       "            allowfullscreen\n",
       "            \n",
       "        ></iframe>\n",
       "        "
      ],
      "text/plain": [
       "<IPython.lib.display.IFrame at 0x19b775ad820>"
      ]
     },
     "metadata": {},
     "output_type": "display_data"
    }
   ],
   "source": [
    "import yfinance as yf\n",
    "import pandas as pd\n",
    "from dash import dcc, html, Dash\n",
    "import plotly.graph_objs as go\n",
    "\n",
    "# Baixar dados\n",
    "ticker = 'AAPL'\n",
    "data = yf.download(ticker, start='2020-01-01', end='2023-01-01')\n",
    "data.reset_index(inplace=True)\n",
    "\n",
    "# Inicializar o app\n",
    "app = Dash(__name__)\n",
    "\n",
    "app.layout = html.Div([\n",
    "    html.H1(f'Análise Financeira: {ticker}'),\n",
    "    \n",
    "    dcc.Graph(\n",
    "        id='grafico-precos',\n",
    "        figure={\n",
    "            'data': [\n",
    "                go.Scatter(\n",
    "                    x=data['Date'],\n",
    "                    y=data['Close'],\n",
    "                    mode='lines',\n",
    "                    name='Preço de Fechamento'\n",
    "                )\n",
    "            ],\n",
    "            'layout': go.Layout(\n",
    "                title='Preço de Fechamento ao Longo do Tempo',\n",
    "                xaxis={'title': 'Data'},\n",
    "                yaxis={'title': 'Preço (USD)'},\n",
    "            )\n",
    "        }\n",
    "    ),\n",
    "    \n",
    "    dcc.Graph(\n",
    "        id='grafico-volume',\n",
    "        figure={\n",
    "            'data': [\n",
    "                go.Bar(\n",
    "                    x=data['Date'],\n",
    "                    y=data['Volume'],\n",
    "                    name='Volume de Negócios'\n",
    "                )\n",
    "            ],\n",
    "            'layout': go.Layout(\n",
    "                title='Volume de Negócios ao Longo do Tempo',\n",
    "                xaxis={'title': 'Data'},\n",
    "                yaxis={'title': 'Volume'},\n",
    "            )\n",
    "        }\n",
    "    )\n",
    "])\n",
    "\n",
    "# Rodar o app\n",
    "#app.run_server(mode='external')  # Para abrir em uma nova janela do navegador\n",
    "# ou\n",
    "app.run_server(mode='tab')  # Para abrir em uma nova aba do navegador\n"
   ]
  },
  {
   "cell_type": "code",
   "execution_count": 10,
   "metadata": {},
   "outputs": [
    {
     "name": "stderr",
     "output_type": "stream",
     "text": [
      "[*********************100%***********************]  1 of 1 completed\n"
     ]
    },
    {
     "name": "stdout",
     "output_type": "stream",
     "text": [
      "                 Open       High        Low      Close  Adj Close     Volume\n",
      "Date                                                                        \n",
      "2020-01-02  74.059998  75.150002  73.797501  75.087502  72.876106  135480400\n",
      "2020-01-03  74.287498  75.144997  74.125000  74.357498  72.167603  146322800\n",
      "2020-01-06  73.447502  74.989998  73.187500  74.949997  72.742645  118387200\n",
      "2020-01-07  74.959999  75.224998  74.370003  74.597504  72.400543  108872000\n",
      "2020-01-08  74.290001  76.110001  74.290001  75.797501  73.565193  132079200\n"
     ]
    }
   ],
   "source": [
    "import yfinance as yf\n",
    "\n",
    "ticker = 'AAPL'\n",
    "start_date = '2020-01-01'\n",
    "end_date = '2023-01-01'\n",
    "\n",
    "data = yf.download(ticker, start=start_date, end=end_date)\n",
    "print(data.head())  # Verificar os primeiros dados baixados\n"
   ]
  }
 ],
 "metadata": {
  "kernelspec": {
   "display_name": "ML_env",
   "language": "python",
   "name": "python3"
  },
  "language_info": {
   "codemirror_mode": {
    "name": "ipython",
    "version": 3
   },
   "file_extension": ".py",
   "mimetype": "text/x-python",
   "name": "python",
   "nbconvert_exporter": "python",
   "pygments_lexer": "ipython3",
   "version": "3.12.5"
  }
 },
 "nbformat": 4,
 "nbformat_minor": 2
}
